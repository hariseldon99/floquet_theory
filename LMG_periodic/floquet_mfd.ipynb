{
 "cells": [
  {
   "cell_type": "markdown",
   "metadata": {},
   "source": [
    "# Mean field Floquet dynamics\n",
    "Consider the Hamiltonian of the type\n",
    "\\begin{equation}\n",
    "\\hat{H}(t) = \\hat{H}_0 + \\left(h \\cos{(\\omega t)} + h_0\\right)\\; \\hat{H}_1,\n",
    "\\end{equation}\n",
    "\n",
    "where\n",
    "\n",
    "\\begin{eqnarray}\n",
    "\\hat{H}_0 &=& -\\frac{1}{2N}\\sum_{ij}\\hat{\\sigma}^z_i\\hat{\\sigma}^z_j,\\\\\n",
    "\\hat{H}_1 &=& \\sum_i\\hat{\\sigma}^x_i.\n",
    "\\end{eqnarray}\n",
    "\n",
    "Here, we have $N$ spin-$1/2$ particles in a $1-$dimensional lattice, and $i,j$ are site indices. We will now attempt a numerical evaluation of\n",
    "the Floquet eigenspectrum of this system.\n",
    "\n",
    "First, define permutation operator $P_{ij} = \\displaystyle\\frac{1}{2}\\left(1+ \\vec{\\sigma}_i\\cdot\\vec{\\sigma}_j\\right)$,\n",
    "and note that $[P_{ij}, H]=0$. Thus, we can reduce the problem size from the full $2^N\\times 2^N$ Hilbert space\n",
    "to the subspace spanned by the degenerate eigenvectors of $P_{ij}$ corresponding to a single eigenvalue, say $1$.\n",
    "This is isomorphic to the subspace spanned by degenerate eigenstates of the operator $S^2=|\\vec{S}|^2$ with eigenvalue\n",
    "$\\displaystyle\\frac{N}{2}\\left(\\frac{N}{2}+1\\right)$, where\n",
    "\n",
    "\\begin{equation}\n",
    "\\vec{S}=S^x\\hat{x}+S^y\\hat{y}+S^z\\hat{z}\\equiv \\sum_i \\vec{\\sigma}_i.\n",
    "\\end{equation}\n",
    "\n",
    "Note that, since $[S^2, S^z]=0$, these are also eigenstates of $S^z$ in this so-called\n",
    "TSS subspace. The corresponding eigenvalues are $Ns_n$, where $s_n=-\\frac{1}{2}+\\frac{n}{N}$ and the index\n",
    "$n= 0 (1) N$ has $N+1$ values. Thus\n",
    "\n",
    "\\begin{equation}\n",
    "S^z |s_n\\rangle = Ns_n|s_n\\rangle,\n",
    "\\end{equation}\n",
    "\n",
    "and the matrix elements $(S^z)_{ij} = Ns_s\\delta_{ij}$. Furthermore, defining ladder operators\n",
    "\n",
    "\\begin{equation}\n",
    "S_\\pm \\equiv S^x \\pm i S^y,\n",
    "\\end{equation}\n",
    "\n",
    "and using the result\n",
    "\n",
    "\\begin{equation}\n",
    "S_\\pm |s_n\\rangle = \\sqrt{\\frac{N}{2}\\left(\\frac{N}{2}+1\\right) - Ns_n\\left(Ns_{n\\pm 1}\\right)}\\;\\;|s_{n\\pm 1}\\rangle,\n",
    "\\end{equation}\n",
    "\n",
    "we can obtain the matrix elements $S^x = S_+ + S_-$ to be\n",
    "\n",
    "\\begin{multline}\n",
    "(S^x)_{nm} = \\frac{1}{2}\\bigg[\\sqrt{\\frac{N}{2}\\left(\\frac{N}{2}+1\\right) - Ns_n\\left(Ns_{n + 1}\\right)}\\;\\;\\delta_{n+1, m}  \\\\\n",
    "                        +\\;\\sqrt{\\frac{N}{2}\\left(\\frac{N}{2}+1\\right) - Ns_n\\left(Ns_{n- 1}\\right)}\\;\\;\\delta_{n-1,m}\\bigg]\n",
    "\\end{multline}\n",
    "\n",
    "Note that, since the Hamiltonian can be readily written as\n",
    "$H(t) = -\\displaystyle\\frac{1}{2N}(S^z)^2 - h_0\\cos{(\\omega t )}S^x$, the matrix elements of\n",
    "\\begin{eqnarray}\n",
    "\\left(H_0\\right)_{ij} &=& -\\frac{N}{2} s^2_i \\delta_{ij},\\nonumber\\\\\n",
    "\\left(H_1\\right)_{ij} &=& \\frac{1}{2}\\bigg[\\sqrt{\\frac{N}{2}\\left(\\frac{N}{2}+1\\right) - Ns_i\\left(Ns_{i + 1}\\right)}\\;\\;\\delta_{i+1, j}  \\\\\n",
    "    & &                     +\\;\\sqrt{\\frac{N}{2}\\left(\\frac{N}{2}+1\\right) - Ns_i\\left(Ns_{i- 1}\\right)}\\;\\;\\delta_{i-1,j}\\bigg]\n",
    "\\end{eqnarray}\n",
    "\n",
    "Note that, in the continuum limit, $N\\rightarrow\\infty$, we can ignore the difference between adjacent values\n",
    "of $s_i$. Thus, the Hamiltonian per particle becomes $h(t)\\equiv \\displaystyle\\frac{1}{N}H(t) = h + h_0\\cos{(\\omega t)}h_1$, where\n",
    "\n",
    "\\begin{eqnarray}\n",
    "\\left(h\\right)_{ij} &\\approx& -\\frac{1}{2} s^2_i \\delta_{ij},\\nonumber\\\\\n",
    "h_0 &\\rightarrow& -\\frac{1}{2}s^2\\\\\n",
    "\\left(h_1\\right)_{ij} &\\approx& \\frac{1}{2}\\sqrt{\\frac{1}{4} - s^2_i}\\left[\\delta_{i+1, j}  + \\delta_{i-1,j}\\right]\\\\\n",
    "h_1 &\\rightarrow& \\sqrt{\\frac{1}{4} - s^2_i}\\;\\;\\cos{p},\n",
    "\\end{eqnarray}\n",
    "where we have expanded the matrix elements in a basis of $e^{ipx}$. In this limit, we obtain the Lipkin Model (Insert from previous notebook)\n",
    ".\n",
    "\n",
    "\n",
    "References:\n",
    "\n",
    "[1] Check T. Mori's paper equation (12)"
   ]
  },
  {
   "cell_type": "code",
   "execution_count": 1,
   "metadata": {
    "collapsed": false,
    "jupyter": {
     "outputs_hidden": false
    },
    "pycharm": {
     "name": "#%%\n"
    }
   },
   "outputs": [
    {
     "name": "stdout",
     "output_type": "stream",
     "text": [
      "# No module named 'skcuda'\n",
      "# Cannot import scikit-cuda. Fall back to scipy.linalg\n"
     ]
    }
   ],
   "source": [
    "from floquet_spectrum import *\n",
    "import numpy as np\n",
    "N=3\n",
    "\n",
    "s = -0.5 + (1./N) * np.arange(N)\n",
    "\n",
    "h0 = np.diagflat(-0.5 * (N * s)**2)\n",
    "\n",
    "h1 = 0.0\n",
    "\n",
    "omega = 40.0\n",
    "amps = np.linspace(60.0, 60.3, 4)\n",
    "dc = 0.1\n",
    "params = {\"omega\": omega, \"amps\": amps, \"dc\": dc, \"hamilt\": (h0, h1)}\n",
    "output = run_floquet(params)"
   ]
  },
  {
   "cell_type": "code",
   "execution_count": 1,
   "metadata": {},
   "outputs": [
    {
     "name": "stdout",
     "output_type": "stream",
     "text": [
      "# No module named 'skcuda'\n",
      "# Cannot import scikit-cuda. Fall back to scipy.linalg\n",
      "time taken 5.16032862663269 second\n"
     ]
    },
    {
     "name": "stderr",
     "output_type": "stream",
     "text": [
      "/home/mahi/.local/lib/python3.8/site-packages/numpy/core/_asarray.py:136: ComplexWarning: Casting complex values to real discards the imaginary part\n",
      "  return array(a, dtype, copy=False, order=order, subok=True)\n"
     ]
    },
    {
     "data": {
      "image/png": "[encoded data removed]",
      "text/plain": [
       "<Figure size 432x288 with 1 Axes>"
      ]
     },
     "metadata": {
      "needs_background": "light"
     },
     "output_type": "display_data"
    }
   ],
   "source": [
    "## Mahbub added here 'h1' part of the hamiltonian matrix\n",
    "\n",
    "from floquet_spectrum import *\n",
    "import numpy as np\n",
    "import matplotlib.pyplot as plt\n",
    "\n",
    "start =time.time()\n",
    "\n",
    "N = 4\n",
    "\n",
    "s = -0.5 + (1./N) * np.arange(N)\n",
    "\n",
    "h0 = np.diagflat(-0.5 * (N * s)**2)\n",
    "\n",
    "def delta_func(x,y):\n",
    "    if ( x == y ):\n",
    "        return 1.0\n",
    "    else:\n",
    "        return 0.0\n",
    "    \n",
    "delta_matrix = np.zeros((N,N))\n",
    "for i in np.arange(N):\n",
    "    for j in np.arange(N):\n",
    "        delta_matrix[i][j] = delta_func(i+1,j) + delta_func(i-1,j)\n",
    "\n",
    "h1 = 0.5 * np.sqrt(0.25*N*N - (N * s)**2) * delta_matrix\n",
    "\n",
    "omega = 40.0\n",
    "amps = np.linspace(23.5,24.5, 10)\n",
    "dc = 0.1\n",
    "params = {\"omega\": omega, \"amps\": amps, \"dc\": dc, \"hamilt\": (h0, h1)}\n",
    "output = run_floquet(params)\n",
    "\n",
    "print(\"time taken\",time.time() - start,\"second\")\n",
    "\n",
    "# Lets plot it\n",
    "\n",
    "ampp = (np.ones((N,len(amps)))*amps).T\n",
    "#plt.figure(figsize=(12,6))\n",
    "for i in np.arange(len(amps)):\n",
    "    plt.scatter(4*ampp[i]/omega,output[i][1],color='blue', marker='.', s= 0.8)\n",
    "title = \"floquet dynamics for N_\"+ str(N)\n",
    "plt.title(title)\n",
    "plt.xlabel(\"4h/w\")\n",
    "plt.ylabel(\"phase function\")\n",
    "#plt.savefig(\"flq_mf.jpeg\",dpi=400)\n",
    "plt.show()"
   ]
  }
 ],
 "metadata": {
  "kernelspec": {
   "display_name": "Python 3",
   "language": "python",
   "name": "python3"
  },
  "language_info": {
   "codemirror_mode": {
    "name": "ipython",
    "version": 3
   },
   "file_extension": ".py",
   "mimetype": "text/x-python",
   "name": "python",
   "nbconvert_exporter": "python",
   "pygments_lexer": "ipython3",
   "version": "3.8.2"
  }
 },
 "nbformat": 4,
 "nbformat_minor": 4
}
